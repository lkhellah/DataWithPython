{
 "cells": [
  {
   "attachments": {},
   "cell_type": "markdown",
   "metadata": {},
   "source": [
    "# Phase 1: Data Acquisition and Cleaning"
   ]
  },
  {
   "attachments": {},
   "cell_type": "markdown",
   "metadata": {},
   "source": [
    "## Project Foundation:\n",
    "\n",
    "- The README identifies the dataset and explains  its suitability/justification "
   ]
  },
  {
   "cell_type": "code",
   "execution_count": 1,
   "metadata": {},
   "outputs": [],
   "source": [
    "# Import Dependencies\n",
    "\n",
    "import pandas as pd\n",
    "import numpy as np"
   ]
  },
  {
   "cell_type": "code",
   "execution_count": 4,
   "metadata": {},
   "outputs": [],
   "source": [
    "# Import CSV and Create the DataFrame\n",
    "data = \"./owid-covid-data.csv\"\n",
    "covid_df = pd.read_csv(data)"
   ]
  },
  {
   "attachments": {},
   "cell_type": "markdown",
   "metadata": {},
   "source": [
    "## Data Cleaning:"
   ]
  },
  {
   "attachments": {},
   "cell_type": "markdown",
   "metadata": {},
   "source": [
    " ### Raw Data Examination\n",
    "\n",
    "Before cleaning, we systematically examine the raw COVID-19 dataset to identify potential issues.\n",
    "\n",
    "The next 5 code cells do the following\n",
    "\n",
    "1. **Check dataset shape** – number of rows and columns.  \n",
    "2. **Check column data types** – numeric, categorical, and dates.  \n",
    "3. **Check for missing values** – which columns have nulls and how many.  \n",
    "4. **Check basic statistics** – min, max, mean, etc., to spot outliers.  \n",
    "5. **Preview a few rows** – to detect inconsistencies or unexpected values.\n"
   ]
  },
  {
   "cell_type": "code",
   "execution_count": 8,
   "metadata": {},
   "outputs": [
    {
     "name": "stdout",
     "output_type": "stream",
     "text": [
      "Dataset shape: (429435, 67)\n"
     ]
    }
   ],
   "source": [
    "# 1. Dataset shape\n",
    "print(\"Dataset shape:\", covid_df.shape)"
   ]
  },
  {
   "cell_type": "code",
   "execution_count": 9,
   "metadata": {},
   "outputs": [
    {
     "name": "stdout",
     "output_type": "stream",
     "text": [
      "\n",
      "Column Data Types:\n",
      " iso_code                                    object\n",
      "continent                                   object\n",
      "location                                    object\n",
      "date                                        object\n",
      "total_cases                                float64\n",
      "                                            ...   \n",
      "population                                   int64\n",
      "excess_mortality_cumulative_absolute       float64\n",
      "excess_mortality_cumulative                float64\n",
      "excess_mortality                           float64\n",
      "excess_mortality_cumulative_per_million    float64\n",
      "Length: 67, dtype: object\n"
     ]
    }
   ],
   "source": [
    "# 2. Column data types\n",
    "print(\"\\nColumn Data Types:\\n\", covid_df.dtypes)"
   ]
  },
  {
   "cell_type": "code",
   "execution_count": 10,
   "metadata": {},
   "outputs": [
    {
     "name": "stdout",
     "output_type": "stream",
     "text": [
      "\n",
      "Missing Values:\n",
      " continent                                   26525\n",
      "total_cases                                 17631\n",
      "new_cases                                   19276\n",
      "new_cases_smoothed                          20506\n",
      "total_deaths                                17631\n",
      "                                            ...  \n",
      "human_development_index                    110308\n",
      "excess_mortality_cumulative_absolute       416024\n",
      "excess_mortality_cumulative                416024\n",
      "excess_mortality                           416024\n",
      "excess_mortality_cumulative_per_million    416024\n",
      "Length: 63, dtype: int64\n"
     ]
    }
   ],
   "source": [
    "# 3. Count of missing values per column\n",
    "missing_values = covid_df.isna().sum()\n",
    "print(\"\\nMissing Values:\\n\", missing_values[missing_values > 0])"
   ]
  },
  {
   "cell_type": "code",
   "execution_count": 11,
   "metadata": {},
   "outputs": [
    {
     "name": "stdout",
     "output_type": "stream",
     "text": [
      "\n",
      "Summary Statistics:\n",
      "         total_cases     new_cases  new_cases_smoothed  total_deaths  \\\n",
      "count  4.118040e+05  4.101590e+05        4.089290e+05  4.118040e+05   \n",
      "mean   7.365292e+06  8.017360e+03        8.041026e+03  8.125957e+04   \n",
      "std    4.477582e+07  2.296649e+05        8.661611e+04  4.411901e+05   \n",
      "min    0.000000e+00  0.000000e+00        0.000000e+00  0.000000e+00   \n",
      "25%    6.280750e+03  0.000000e+00        0.000000e+00  4.300000e+01   \n",
      "50%    6.365300e+04  0.000000e+00        1.200000e+01  7.990000e+02   \n",
      "75%    7.582720e+05  0.000000e+00        3.132900e+02  9.574000e+03   \n",
      "max    7.758668e+08  4.423623e+07        6.319461e+06  7.057132e+06   \n",
      "\n",
      "          new_deaths  new_deaths_smoothed  total_cases_per_million  \\\n",
      "count  410608.000000        409378.000000            411804.000000   \n",
      "mean       71.852139            72.060828            112096.199420   \n",
      "std      1368.322990           513.636565            162240.412405   \n",
      "min         0.000000             0.000000                 0.000000   \n",
      "25%         0.000000             0.000000              1916.100000   \n",
      "50%         0.000000             0.000000             29145.480000   \n",
      "75%         0.000000             3.140000            156770.190000   \n",
      "max    103719.000000         14817.000000            763598.600000   \n",
      "\n",
      "       new_cases_per_million  new_cases_smoothed_per_million  \\\n",
      "count          410159.000000                   408929.000000   \n",
      "mean              122.357073                      122.713852   \n",
      "std              1508.778585                      559.701663   \n",
      "min                 0.000000                        0.000000   \n",
      "25%                 0.000000                        0.000000   \n",
      "50%                 0.000000                        2.790000   \n",
      "75%                 0.000000                       56.250000   \n",
      "max            241758.230000                    34536.890000   \n",
      "\n",
      "       total_deaths_per_million  ...   male_smokers  handwashing_facilities  \\\n",
      "count             411804.000000  ...  243817.000000           161741.000000   \n",
      "mean                 835.514337  ...      33.097758               50.649390   \n",
      "std                 1134.932641  ...      13.853952               31.905236   \n",
      "min                    0.000000  ...       7.700000                1.190000   \n",
      "25%                   24.570000  ...      22.600000               20.860000   \n",
      "50%                  295.090000  ...      33.100000               49.540000   \n",
      "75%                 1283.820000  ...      41.500000               82.500000   \n",
      "max                 6601.110000  ...      78.100000              100.000000   \n",
      "\n",
      "       hospital_beds_per_thousand  life_expectancy  human_development_index  \\\n",
      "count               290689.000000    390299.000000            319127.000000   \n",
      "mean                     3.106895        73.702098                 0.722178   \n",
      "std                      2.549168         7.387914                 0.149237   \n",
      "min                      0.100000        53.280000                 0.390000   \n",
      "25%                      1.300000        69.500000                 0.600000   \n",
      "50%                      2.500000        75.050000                 0.740000   \n",
      "75%                      4.210000        79.460000                 0.830000   \n",
      "max                     13.800000        86.750000                 0.960000   \n",
      "\n",
      "         population  excess_mortality_cumulative_absolute  \\\n",
      "count  4.294350e+05                          1.341100e+04   \n",
      "mean   1.520336e+08                          5.604765e+04   \n",
      "std    6.975408e+08                          1.568691e+05   \n",
      "min    4.700000e+01                         -3.772610e+04   \n",
      "25%    5.237980e+05                          1.765000e+02   \n",
      "50%    6.336393e+06                          6.815200e+03   \n",
      "75%    3.296952e+07                          3.912804e+04   \n",
      "max    7.975105e+09                          1.349776e+06   \n",
      "\n",
      "       excess_mortality_cumulative  excess_mortality  \\\n",
      "count                 13411.000000      13411.000000   \n",
      "mean                      9.766431         10.925353   \n",
      "std                      12.040658         24.560706   \n",
      "min                     -44.230000        -95.920000   \n",
      "25%                       2.060000         -1.500000   \n",
      "50%                       8.130000          5.660000   \n",
      "75%                      15.160000         15.575000   \n",
      "max                      78.080000        378.220000   \n",
      "\n",
      "       excess_mortality_cumulative_per_million  \n",
      "count                             13411.000000  \n",
      "mean                               1772.666404  \n",
      "std                                1991.892770  \n",
      "min                               -2936.450000  \n",
      "25%                                 116.875000  \n",
      "50%                                1270.800000  \n",
      "75%                                2883.025000  \n",
      "max                               10293.520000  \n",
      "\n",
      "[8 rows x 62 columns]\n"
     ]
    }
   ],
   "source": [
    "# 4. Basic statistics for numeric columns\n",
    "print(\"\\nSummary Statistics:\\n\", covid_df.describe())"
   ]
  },
  {
   "cell_type": "code",
   "execution_count": 12,
   "metadata": {},
   "outputs": [
    {
     "data": {
      "text/html": [
       "<div>\n",
       "<style scoped>\n",
       "    .dataframe tbody tr th:only-of-type {\n",
       "        vertical-align: middle;\n",
       "    }\n",
       "\n",
       "    .dataframe tbody tr th {\n",
       "        vertical-align: top;\n",
       "    }\n",
       "\n",
       "    .dataframe thead th {\n",
       "        text-align: right;\n",
       "    }\n",
       "</style>\n",
       "<table border=\"1\" class=\"dataframe\">\n",
       "  <thead>\n",
       "    <tr style=\"text-align: right;\">\n",
       "      <th></th>\n",
       "      <th>iso_code</th>\n",
       "      <th>continent</th>\n",
       "      <th>location</th>\n",
       "      <th>date</th>\n",
       "      <th>total_cases</th>\n",
       "      <th>new_cases</th>\n",
       "      <th>new_cases_smoothed</th>\n",
       "      <th>total_deaths</th>\n",
       "      <th>new_deaths</th>\n",
       "      <th>new_deaths_smoothed</th>\n",
       "      <th>...</th>\n",
       "      <th>male_smokers</th>\n",
       "      <th>handwashing_facilities</th>\n",
       "      <th>hospital_beds_per_thousand</th>\n",
       "      <th>life_expectancy</th>\n",
       "      <th>human_development_index</th>\n",
       "      <th>population</th>\n",
       "      <th>excess_mortality_cumulative_absolute</th>\n",
       "      <th>excess_mortality_cumulative</th>\n",
       "      <th>excess_mortality</th>\n",
       "      <th>excess_mortality_cumulative_per_million</th>\n",
       "    </tr>\n",
       "  </thead>\n",
       "  <tbody>\n",
       "    <tr>\n",
       "      <th>0</th>\n",
       "      <td>AFG</td>\n",
       "      <td>Asia</td>\n",
       "      <td>Afghanistan</td>\n",
       "      <td>2020-01-05</td>\n",
       "      <td>0.0</td>\n",
       "      <td>0.0</td>\n",
       "      <td>NaN</td>\n",
       "      <td>0.0</td>\n",
       "      <td>0.0</td>\n",
       "      <td>NaN</td>\n",
       "      <td>...</td>\n",
       "      <td>NaN</td>\n",
       "      <td>37.75</td>\n",
       "      <td>0.5</td>\n",
       "      <td>64.83</td>\n",
       "      <td>0.51</td>\n",
       "      <td>41128772</td>\n",
       "      <td>NaN</td>\n",
       "      <td>NaN</td>\n",
       "      <td>NaN</td>\n",
       "      <td>NaN</td>\n",
       "    </tr>\n",
       "    <tr>\n",
       "      <th>1</th>\n",
       "      <td>AFG</td>\n",
       "      <td>Asia</td>\n",
       "      <td>Afghanistan</td>\n",
       "      <td>2020-01-06</td>\n",
       "      <td>0.0</td>\n",
       "      <td>0.0</td>\n",
       "      <td>NaN</td>\n",
       "      <td>0.0</td>\n",
       "      <td>0.0</td>\n",
       "      <td>NaN</td>\n",
       "      <td>...</td>\n",
       "      <td>NaN</td>\n",
       "      <td>37.75</td>\n",
       "      <td>0.5</td>\n",
       "      <td>64.83</td>\n",
       "      <td>0.51</td>\n",
       "      <td>41128772</td>\n",
       "      <td>NaN</td>\n",
       "      <td>NaN</td>\n",
       "      <td>NaN</td>\n",
       "      <td>NaN</td>\n",
       "    </tr>\n",
       "    <tr>\n",
       "      <th>2</th>\n",
       "      <td>AFG</td>\n",
       "      <td>Asia</td>\n",
       "      <td>Afghanistan</td>\n",
       "      <td>2020-01-07</td>\n",
       "      <td>0.0</td>\n",
       "      <td>0.0</td>\n",
       "      <td>NaN</td>\n",
       "      <td>0.0</td>\n",
       "      <td>0.0</td>\n",
       "      <td>NaN</td>\n",
       "      <td>...</td>\n",
       "      <td>NaN</td>\n",
       "      <td>37.75</td>\n",
       "      <td>0.5</td>\n",
       "      <td>64.83</td>\n",
       "      <td>0.51</td>\n",
       "      <td>41128772</td>\n",
       "      <td>NaN</td>\n",
       "      <td>NaN</td>\n",
       "      <td>NaN</td>\n",
       "      <td>NaN</td>\n",
       "    </tr>\n",
       "    <tr>\n",
       "      <th>3</th>\n",
       "      <td>AFG</td>\n",
       "      <td>Asia</td>\n",
       "      <td>Afghanistan</td>\n",
       "      <td>2020-01-08</td>\n",
       "      <td>0.0</td>\n",
       "      <td>0.0</td>\n",
       "      <td>NaN</td>\n",
       "      <td>0.0</td>\n",
       "      <td>0.0</td>\n",
       "      <td>NaN</td>\n",
       "      <td>...</td>\n",
       "      <td>NaN</td>\n",
       "      <td>37.75</td>\n",
       "      <td>0.5</td>\n",
       "      <td>64.83</td>\n",
       "      <td>0.51</td>\n",
       "      <td>41128772</td>\n",
       "      <td>NaN</td>\n",
       "      <td>NaN</td>\n",
       "      <td>NaN</td>\n",
       "      <td>NaN</td>\n",
       "    </tr>\n",
       "    <tr>\n",
       "      <th>4</th>\n",
       "      <td>AFG</td>\n",
       "      <td>Asia</td>\n",
       "      <td>Afghanistan</td>\n",
       "      <td>2020-01-09</td>\n",
       "      <td>0.0</td>\n",
       "      <td>0.0</td>\n",
       "      <td>NaN</td>\n",
       "      <td>0.0</td>\n",
       "      <td>0.0</td>\n",
       "      <td>NaN</td>\n",
       "      <td>...</td>\n",
       "      <td>NaN</td>\n",
       "      <td>37.75</td>\n",
       "      <td>0.5</td>\n",
       "      <td>64.83</td>\n",
       "      <td>0.51</td>\n",
       "      <td>41128772</td>\n",
       "      <td>NaN</td>\n",
       "      <td>NaN</td>\n",
       "      <td>NaN</td>\n",
       "      <td>NaN</td>\n",
       "    </tr>\n",
       "  </tbody>\n",
       "</table>\n",
       "<p>5 rows × 67 columns</p>\n",
       "</div>"
      ],
      "text/plain": [
       "  iso_code continent     location        date  total_cases  new_cases  \\\n",
       "0      AFG      Asia  Afghanistan  2020-01-05          0.0        0.0   \n",
       "1      AFG      Asia  Afghanistan  2020-01-06          0.0        0.0   \n",
       "2      AFG      Asia  Afghanistan  2020-01-07          0.0        0.0   \n",
       "3      AFG      Asia  Afghanistan  2020-01-08          0.0        0.0   \n",
       "4      AFG      Asia  Afghanistan  2020-01-09          0.0        0.0   \n",
       "\n",
       "   new_cases_smoothed  total_deaths  new_deaths  new_deaths_smoothed  ...  \\\n",
       "0                 NaN           0.0         0.0                  NaN  ...   \n",
       "1                 NaN           0.0         0.0                  NaN  ...   \n",
       "2                 NaN           0.0         0.0                  NaN  ...   \n",
       "3                 NaN           0.0         0.0                  NaN  ...   \n",
       "4                 NaN           0.0         0.0                  NaN  ...   \n",
       "\n",
       "   male_smokers  handwashing_facilities  hospital_beds_per_thousand  \\\n",
       "0           NaN                   37.75                         0.5   \n",
       "1           NaN                   37.75                         0.5   \n",
       "2           NaN                   37.75                         0.5   \n",
       "3           NaN                   37.75                         0.5   \n",
       "4           NaN                   37.75                         0.5   \n",
       "\n",
       "   life_expectancy  human_development_index  population  \\\n",
       "0            64.83                     0.51    41128772   \n",
       "1            64.83                     0.51    41128772   \n",
       "2            64.83                     0.51    41128772   \n",
       "3            64.83                     0.51    41128772   \n",
       "4            64.83                     0.51    41128772   \n",
       "\n",
       "   excess_mortality_cumulative_absolute  excess_mortality_cumulative  \\\n",
       "0                                   NaN                          NaN   \n",
       "1                                   NaN                          NaN   \n",
       "2                                   NaN                          NaN   \n",
       "3                                   NaN                          NaN   \n",
       "4                                   NaN                          NaN   \n",
       "\n",
       "   excess_mortality  excess_mortality_cumulative_per_million  \n",
       "0               NaN                                      NaN  \n",
       "1               NaN                                      NaN  \n",
       "2               NaN                                      NaN  \n",
       "3               NaN                                      NaN  \n",
       "4               NaN                                      NaN  \n",
       "\n",
       "[5 rows x 67 columns]"
      ]
     },
     "execution_count": 12,
     "metadata": {},
     "output_type": "execute_result"
    }
   ],
   "source": [
    "# 5. Preview first 5 rows\n",
    "covid_df.head()"
   ]
  },
  {
   "cell_type": "code",
   "execution_count": 14,
   "metadata": {},
   "outputs": [
    {
     "name": "stdout",
     "output_type": "stream",
     "text": [
      "Index(['iso_code', 'continent', 'location', 'date', 'total_cases', 'new_cases',\n",
      "       'new_cases_smoothed', 'total_deaths', 'new_deaths',\n",
      "       'new_deaths_smoothed', 'total_cases_per_million',\n",
      "       'new_cases_per_million', 'new_cases_smoothed_per_million',\n",
      "       'total_deaths_per_million', 'new_deaths_per_million',\n",
      "       'new_deaths_smoothed_per_million', 'reproduction_rate', 'icu_patients',\n",
      "       'icu_patients_per_million', 'hosp_patients',\n",
      "       'hosp_patients_per_million', 'weekly_icu_admissions',\n",
      "       'weekly_icu_admissions_per_million', 'weekly_hosp_admissions',\n",
      "       'weekly_hosp_admissions_per_million', 'total_tests', 'new_tests',\n",
      "       'total_tests_per_thousand', 'new_tests_per_thousand',\n",
      "       'new_tests_smoothed', 'new_tests_smoothed_per_thousand',\n",
      "       'positive_rate', 'tests_per_case', 'tests_units', 'total_vaccinations',\n",
      "       'people_vaccinated', 'people_fully_vaccinated', 'total_boosters',\n",
      "       'new_vaccinations', 'new_vaccinations_smoothed',\n",
      "       'total_vaccinations_per_hundred', 'people_vaccinated_per_hundred',\n",
      "       'people_fully_vaccinated_per_hundred', 'total_boosters_per_hundred',\n",
      "       'new_vaccinations_smoothed_per_million',\n",
      "       'new_people_vaccinated_smoothed',\n",
      "       'new_people_vaccinated_smoothed_per_hundred', 'stringency_index',\n",
      "       'population_density', 'median_age', 'aged_65_older', 'aged_70_older',\n",
      "       'gdp_per_capita', 'extreme_poverty', 'cardiovasc_death_rate',\n",
      "       'diabetes_prevalence', 'female_smokers', 'male_smokers',\n",
      "       'handwashing_facilities', 'hospital_beds_per_thousand',\n",
      "       'life_expectancy', 'human_development_index', 'population',\n",
      "       'excess_mortality_cumulative_absolute', 'excess_mortality_cumulative',\n",
      "       'excess_mortality', 'excess_mortality_cumulative_per_million'],\n",
      "      dtype='object')\n"
     ]
    }
   ],
   "source": [
    "# Print column names\n",
    "print(covid_df.columns)\n"
   ]
  },
  {
   "attachments": {},
   "cell_type": "markdown",
   "metadata": {},
   "source": [
    "### Data cleaning"
   ]
  },
  {
   "cell_type": "code",
   "execution_count": 15,
   "metadata": {},
   "outputs": [
    {
     "name": "stdout",
     "output_type": "stream",
     "text": [
      "new_cases negative values: 0\n",
      "new_deaths negative values: 0\n"
     ]
    }
   ],
   "source": [
    "# Check for negative numbers in key columns\n",
    "cols_to_check = ['new_cases', 'new_deaths']\n",
    "for col in cols_to_check:\n",
    "    if col in covid_df.columns:\n",
    "        neg_count = (covid_df[col] < 0).sum()\n",
    "        print(f\"{col} negative values:\", neg_count)"
   ]
  },
  {
   "cell_type": "code",
   "execution_count": 16,
   "metadata": {},
   "outputs": [
    {
     "name": "stdout",
     "output_type": "stream",
     "text": [
      "\n",
      "Column Data Types:\n",
      " iso_code                                           object\n",
      "continent                                          object\n",
      "location                                           object\n",
      "date                                       datetime64[ns]\n",
      "total_cases                                       float64\n",
      "                                                ...      \n",
      "population                                          int64\n",
      "excess_mortality_cumulative_absolute              float64\n",
      "excess_mortality_cumulative                       float64\n",
      "excess_mortality                                  float64\n",
      "excess_mortality_cumulative_per_million           float64\n",
      "Length: 67, dtype: object\n"
     ]
    }
   ],
   "source": [
    "# changing date to datetime object\n",
    "covid_df['date'] = pd.to_datetime(covid_df['date'])\n",
    "print(\"\\nColumn Data Types:\\n\", covid_df.dtypes)"
   ]
  },
  {
   "cell_type": "code",
   "execution_count": null,
   "metadata": {},
   "outputs": [],
   "source": []
  }
 ],
 "metadata": {
  "kernelspec": {
   "display_name": ".venv",
   "language": "python",
   "name": "python3"
  },
  "language_info": {
   "codemirror_mode": {
    "name": "ipython",
    "version": 3
   },
   "file_extension": ".py",
   "mimetype": "text/x-python",
   "name": "python",
   "nbconvert_exporter": "python",
   "pygments_lexer": "ipython3",
   "version": "3.11.4"
  },
  "orig_nbformat": 4
 },
 "nbformat": 4,
 "nbformat_minor": 2
}
